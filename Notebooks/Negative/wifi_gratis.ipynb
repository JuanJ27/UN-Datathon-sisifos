{
 "cells": [
  {
   "cell_type": "code",
   "execution_count": 96,
   "metadata": {},
   "outputs": [],
   "source": [
    "import numpy as np\n",
    "import pandas as pd\n",
    "import matplotlib.pyplot as plt"
   ]
  },
  {
   "cell_type": "code",
   "execution_count": null,
   "metadata": {},
   "outputs": [
    {
     "data": {
      "text/html": [
       "<div>\n",
       "<style scoped>\n",
       "    .dataframe tbody tr th:only-of-type {\n",
       "        vertical-align: middle;\n",
       "    }\n",
       "\n",
       "    .dataframe tbody tr th {\n",
       "        vertical-align: top;\n",
       "    }\n",
       "\n",
       "    .dataframe thead th {\n",
       "        text-align: right;\n",
       "    }\n",
       "</style>\n",
       "<table border=\"1\" class=\"dataframe\">\n",
       "  <thead>\n",
       "    <tr style=\"text-align: right;\">\n",
       "      <th></th>\n",
       "      <th>OBJECTID</th>\n",
       "      <th>Shape</th>\n",
       "      <th>id_une</th>\n",
       "      <th>nombre_sitio</th>\n",
       "      <th>cod_comuna</th>\n",
       "      <th>comuna</th>\n",
       "      <th>barrio</th>\n",
       "      <th>direccion</th>\n",
       "      <th>x_magnamed</th>\n",
       "      <th>y_magnamed</th>\n",
       "      <th>latitud</th>\n",
       "      <th>longitud</th>\n",
       "    </tr>\n",
       "  </thead>\n",
       "  <tbody>\n",
       "    <tr>\n",
       "      <th>0</th>\n",
       "      <td>1</td>\n",
       "      <td>(4723721.845500001, 2244813.7430000026)</td>\n",
       "      <td>WIFIMDE0006</td>\n",
       "      <td>Casa de Gobierno Santa Elena</td>\n",
       "      <td>90</td>\n",
       "      <td>90</td>\n",
       "      <td>2</td>\n",
       "      <td>CL 10 # 40 E - 44</td>\n",
       "      <td>842824.9285</td>\n",
       "      <td>1.178661e+06</td>\n",
       "      <td>6.209717</td>\n",
       "      <td>-75.497620</td>\n",
       "    </tr>\n",
       "    <tr>\n",
       "      <th>1</th>\n",
       "      <td>2</td>\n",
       "      <td>(4723737.450000002, 2252374.5379000027)</td>\n",
       "      <td>WIFIMDE0256</td>\n",
       "      <td>El Tambo</td>\n",
       "      <td>90</td>\n",
       "      <td>90</td>\n",
       "      <td>2</td>\n",
       "      <td>CL 86 - CR 42 E (Mini Glorieta Arvi)</td>\n",
       "      <td>842803.6964</td>\n",
       "      <td>1.186223e+06</td>\n",
       "      <td>6.278076</td>\n",
       "      <td>-75.497803</td>\n",
       "    </tr>\n",
       "    <tr>\n",
       "      <th>2</th>\n",
       "      <td>3</td>\n",
       "      <td>(4723394.4586, 2249858.1275000013)</td>\n",
       "      <td>WIFIMDE0179</td>\n",
       "      <td>@Medellín - Sapiencia</td>\n",
       "      <td>90</td>\n",
       "      <td>90</td>\n",
       "      <td>2</td>\n",
       "      <td>Centralidad Mazo</td>\n",
       "      <td>842472.9832</td>\n",
       "      <td>1.183704e+06</td>\n",
       "      <td>6.255310</td>\n",
       "      <td>-75.500793</td>\n",
       "    </tr>\n",
       "    <tr>\n",
       "      <th>3</th>\n",
       "      <td>4</td>\n",
       "      <td>(4723306.4307, 2252646.6280000024)</td>\n",
       "      <td>ACP-2291181</td>\n",
       "      <td>Parque Arví - Centro Ambiental y Cultural Parq...</td>\n",
       "      <td>90</td>\n",
       "      <td>90</td>\n",
       "      <td>2</td>\n",
       "      <td>Parque Arví Santa Elena</td>\n",
       "      <td>842371.3103</td>\n",
       "      <td>1.186493e+06</td>\n",
       "      <td>6.280518</td>\n",
       "      <td>-75.501709</td>\n",
       "    </tr>\n",
       "    <tr>\n",
       "      <th>4</th>\n",
       "      <td>5</td>\n",
       "      <td>(4723219.134400001, 2252755.0582000017)</td>\n",
       "      <td>ACP-2151623</td>\n",
       "      <td>Plazoleta Estación Metrocable Parque Arví (ext...</td>\n",
       "      <td>90</td>\n",
       "      <td>90</td>\n",
       "      <td>2</td>\n",
       "      <td>Via a Piedras Blancas</td>\n",
       "      <td>842283.4759</td>\n",
       "      <td>1.186601e+06</td>\n",
       "      <td>6.281494</td>\n",
       "      <td>-75.502502</td>\n",
       "    </tr>\n",
       "  </tbody>\n",
       "</table>\n",
       "</div>"
      ],
      "text/plain": [
       "   OBJECTID                                    Shape       id_une  \\\n",
       "0         1  (4723721.845500001, 2244813.7430000026)  WIFIMDE0006   \n",
       "1         2  (4723737.450000002, 2252374.5379000027)  WIFIMDE0256   \n",
       "2         3       (4723394.4586, 2249858.1275000013)  WIFIMDE0179   \n",
       "3         4       (4723306.4307, 2252646.6280000024)  ACP-2291181   \n",
       "4         5  (4723219.134400001, 2252755.0582000017)  ACP-2151623   \n",
       "\n",
       "                                        nombre_sitio cod_comuna comuna  \\\n",
       "0                       Casa de Gobierno Santa Elena         90     90   \n",
       "1                                           El Tambo         90     90   \n",
       "2                              @Medellín - Sapiencia         90     90   \n",
       "3  Parque Arví - Centro Ambiental y Cultural Parq...         90     90   \n",
       "4  Plazoleta Estación Metrocable Parque Arví (ext...         90     90   \n",
       "\n",
       "   barrio                             direccion   x_magnamed    y_magnamed  \\\n",
       "0       2                     CL 10 # 40 E - 44  842824.9285  1.178661e+06   \n",
       "1       2  CL 86 - CR 42 E (Mini Glorieta Arvi)  842803.6964  1.186223e+06   \n",
       "2       2                      Centralidad Mazo  842472.9832  1.183704e+06   \n",
       "3       2               Parque Arví Santa Elena  842371.3103  1.186493e+06   \n",
       "4       2                 Via a Piedras Blancas  842283.4759  1.186601e+06   \n",
       "\n",
       "    latitud   longitud  \n",
       "0  6.209717 -75.497620  \n",
       "1  6.278076 -75.497803  \n",
       "2  6.255310 -75.500793  \n",
       "3  6.280518 -75.501709  \n",
       "4  6.281494 -75.502502  "
      ]
     },
     "execution_count": 97,
     "metadata": {},
     "output_type": "execute_result"
    }
   ],
   "source": [
    "df = pd.read_csv('../../Data/wifi_gratis.csv', encoding='latin1')\n",
    "df.head()"
   ]
  },
  {
   "cell_type": "code",
   "execution_count": 98,
   "metadata": {},
   "outputs": [],
   "source": [
    "df.drop(columns = ['OBJECTID', 'Shape', 'id_une', 'nombre_sitio', 'cod_comuna',\\\n",
    "                    'barrio', 'direccion', 'x_magnamed', 'y_magnamed', 'latitud',\\\n",
    "                    'longitud'], inplace=True)"
   ]
  },
  {
   "cell_type": "code",
   "execution_count": 99,
   "metadata": {},
   "outputs": [],
   "source": [
    "df['comuna'] = df[df['comuna'] != 'SN01'].reset_index(drop=True)"
   ]
  },
  {
   "cell_type": "code",
   "execution_count": 100,
   "metadata": {},
   "outputs": [],
   "source": [
    "df.dropna(inplace=True)"
   ]
  },
  {
   "cell_type": "code",
   "execution_count": 101,
   "metadata": {},
   "outputs": [
    {
     "data": {
      "text/plain": [
       "array(['90', '08', '09', '03', '01', '02', '04', '10', '05', '14', '06',\n",
       "       '15', '11', '16', '07', '13', '12', '60', '70', '80', '50'],\n",
       "      dtype=object)"
      ]
     },
     "execution_count": 101,
     "metadata": {},
     "output_type": "execute_result"
    }
   ],
   "source": [
    "df['comuna'].unique() # cut the nan values"
   ]
  },
  {
   "cell_type": "code",
   "execution_count": 102,
   "metadata": {},
   "outputs": [],
   "source": [
    "df.sort_values(by='comuna', inplace=True)"
   ]
  },
  {
   "cell_type": "code",
   "execution_count": 103,
   "metadata": {},
   "outputs": [],
   "source": [
    "df = pd.DataFrame(df.value_counts()).rename(columns={0: 'Total'}).reset_index()"
   ]
  },
  {
   "cell_type": "code",
   "execution_count": 104,
   "metadata": {},
   "outputs": [
    {
     "data": {
      "text/html": [
       "<div>\n",
       "<style scoped>\n",
       "    .dataframe tbody tr th:only-of-type {\n",
       "        vertical-align: middle;\n",
       "    }\n",
       "\n",
       "    .dataframe tbody tr th {\n",
       "        vertical-align: top;\n",
       "    }\n",
       "\n",
       "    .dataframe thead th {\n",
       "        text-align: right;\n",
       "    }\n",
       "</style>\n",
       "<table border=\"1\" class=\"dataframe\">\n",
       "  <thead>\n",
       "    <tr style=\"text-align: right;\">\n",
       "      <th></th>\n",
       "      <th>comuna</th>\n",
       "      <th>Total</th>\n",
       "    </tr>\n",
       "  </thead>\n",
       "  <tbody>\n",
       "    <tr>\n",
       "      <th>0</th>\n",
       "      <td>10</td>\n",
       "      <td>42</td>\n",
       "    </tr>\n",
       "    <tr>\n",
       "      <th>1</th>\n",
       "      <td>11</td>\n",
       "      <td>34</td>\n",
       "    </tr>\n",
       "    <tr>\n",
       "      <th>2</th>\n",
       "      <td>05</td>\n",
       "      <td>23</td>\n",
       "    </tr>\n",
       "    <tr>\n",
       "      <th>3</th>\n",
       "      <td>13</td>\n",
       "      <td>22</td>\n",
       "    </tr>\n",
       "    <tr>\n",
       "      <th>4</th>\n",
       "      <td>04</td>\n",
       "      <td>19</td>\n",
       "    </tr>\n",
       "    <tr>\n",
       "      <th>5</th>\n",
       "      <td>15</td>\n",
       "      <td>17</td>\n",
       "    </tr>\n",
       "    <tr>\n",
       "      <th>6</th>\n",
       "      <td>01</td>\n",
       "      <td>17</td>\n",
       "    </tr>\n",
       "    <tr>\n",
       "      <th>7</th>\n",
       "      <td>06</td>\n",
       "      <td>15</td>\n",
       "    </tr>\n",
       "    <tr>\n",
       "      <th>8</th>\n",
       "      <td>16</td>\n",
       "      <td>15</td>\n",
       "    </tr>\n",
       "    <tr>\n",
       "      <th>9</th>\n",
       "      <td>03</td>\n",
       "      <td>14</td>\n",
       "    </tr>\n",
       "    <tr>\n",
       "      <th>10</th>\n",
       "      <td>08</td>\n",
       "      <td>13</td>\n",
       "    </tr>\n",
       "    <tr>\n",
       "      <th>11</th>\n",
       "      <td>09</td>\n",
       "      <td>13</td>\n",
       "    </tr>\n",
       "    <tr>\n",
       "      <th>12</th>\n",
       "      <td>07</td>\n",
       "      <td>13</td>\n",
       "    </tr>\n",
       "    <tr>\n",
       "      <th>13</th>\n",
       "      <td>12</td>\n",
       "      <td>12</td>\n",
       "    </tr>\n",
       "    <tr>\n",
       "      <th>14</th>\n",
       "      <td>14</td>\n",
       "      <td>12</td>\n",
       "    </tr>\n",
       "    <tr>\n",
       "      <th>15</th>\n",
       "      <td>60</td>\n",
       "      <td>12</td>\n",
       "    </tr>\n",
       "    <tr>\n",
       "      <th>16</th>\n",
       "      <td>90</td>\n",
       "      <td>10</td>\n",
       "    </tr>\n",
       "    <tr>\n",
       "      <th>17</th>\n",
       "      <td>02</td>\n",
       "      <td>9</td>\n",
       "    </tr>\n",
       "    <tr>\n",
       "      <th>18</th>\n",
       "      <td>80</td>\n",
       "      <td>8</td>\n",
       "    </tr>\n",
       "    <tr>\n",
       "      <th>19</th>\n",
       "      <td>70</td>\n",
       "      <td>7</td>\n",
       "    </tr>\n",
       "    <tr>\n",
       "      <th>20</th>\n",
       "      <td>50</td>\n",
       "      <td>4</td>\n",
       "    </tr>\n",
       "  </tbody>\n",
       "</table>\n",
       "</div>"
      ],
      "text/plain": [
       "   comuna  Total\n",
       "0      10     42\n",
       "1      11     34\n",
       "2      05     23\n",
       "3      13     22\n",
       "4      04     19\n",
       "5      15     17\n",
       "6      01     17\n",
       "7      06     15\n",
       "8      16     15\n",
       "9      03     14\n",
       "10     08     13\n",
       "11     09     13\n",
       "12     07     13\n",
       "13     12     12\n",
       "14     14     12\n",
       "15     60     12\n",
       "16     90     10\n",
       "17     02      9\n",
       "18     80      8\n",
       "19     70      7\n",
       "20     50      4"
      ]
     },
     "execution_count": 104,
     "metadata": {},
     "output_type": "execute_result"
    }
   ],
   "source": [
    "df"
   ]
  },
  {
   "cell_type": "code",
   "execution_count": 105,
   "metadata": {},
   "outputs": [
    {
     "data": {
      "text/plain": [
       "<Axes: xlabel='comuna'>"
      ]
     },
     "execution_count": 105,
     "metadata": {},
     "output_type": "execute_result"
    },
    {
     "data": {
      "image/png": "[encoded data removed]",
      "text/plain": [
       "<Figure size 1000x500 with 1 Axes>"
      ]
     },
     "metadata": {},
     "output_type": "display_data"
    }
   ],
   "source": [
    "df.plot(kind='bar', x='comuna', y='Total', figsize=(10, 5), color='skyblue')"
   ]
  }
 ],
 "metadata": {
  "kernelspec": {
   "display_name": "base",
   "language": "python",
   "name": "python3"
  },
  "language_info": {
   "codemirror_mode": {
    "name": "ipython",
    "version": 3
   },
   "file_extension": ".py",
   "mimetype": "text/x-python",
   "name": "python",
   "nbconvert_exporter": "python",
   "pygments_lexer": "ipython3",
   "version": "3.10.9"
  },
  "orig_nbformat": 4
 },
 "nbformat": 4,
 "nbformat_minor": 2
}
