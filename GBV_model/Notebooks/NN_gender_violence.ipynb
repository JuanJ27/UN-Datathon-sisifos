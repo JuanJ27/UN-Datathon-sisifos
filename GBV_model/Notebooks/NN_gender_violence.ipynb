{
 "cells": [
  {
   "cell_type": "markdown",
   "metadata": {},
   "source": [
    "# Neural Network for GBV (Gender-based violence) Detection"
   ]
  },
  {
   "cell_type": "markdown",
   "metadata": {},
   "source": [
    "In this notebook we will build a neural network to detect gender violence from tweets."
   ]
  },
  {
   "cell_type": "markdown",
   "metadata": {
    "id": "R5j-bFXDINXb"
   },
   "source": [
    "## Local dependencies\n",
    "\n",
    "These depedencies are required to run this notebook. You can install them using the following command: `!pip install -r requirements.txt`"
   ]
  },
  {
   "cell_type": "code",
   "execution_count": null,
   "metadata": {
    "colab": {
     "base_uri": "https://localhost:8080/"
    },
    "id": "f0mAOvNUIPo3",
    "outputId": "df259ec6-3354-4bf7-ac5f-c6a481fe457c"
   },
   "outputs": [
    {
     "name": "stderr",
     "output_type": "stream",
     "text": [
      "[nltk_data] Downloading package stopwords to\n",
      "[nltk_data]     C:\\Users\\Acer\\AppData\\Roaming\\nltk_data...\n",
      "[nltk_data]   Package stopwords is already up-to-date!\n",
      "[nltk_data] Downloading package punkt to\n",
      "[nltk_data]     C:\\Users\\Acer\\AppData\\Roaming\\nltk_data...\n",
      "[nltk_data]   Package punkt is already up-to-date!\n",
      "[nltk_data] Downloading package wordnet to\n",
      "[nltk_data]     C:\\Users\\Acer\\AppData\\Roaming\\nltk_data...\n",
      "[nltk_data]   Package wordnet is already up-to-date!\n"
     ]
    },
    {
     "name": "stdout",
     "output_type": "stream",
     "text": [
      "plan.n.01 a series of steps to be carried out or goals to be accomplished\n",
      "program.n.02 a system of projects or services intended to meet a public need\n",
      "broadcast.n.02 a radio or television show\n",
      "platform.n.02 a document stating the aims and principles of a political party\n",
      "program.n.05 an announcement of the events that will occur as part of a theatrical or sporting event\n",
      "course_of_study.n.01 an integrated course of academic studies\n",
      "program.n.07 (computer science) a sequence of instructions that a computer can interpret and execute\n",
      "program.n.08 a performance (or series of performances) at a public presentation\n",
      "program.v.01 arrange a program of or for\n",
      "program.v.02 write a computer program\n"
     ]
    }
   ],
   "source": [
    "# load dependencies\n",
    "import numpy as np\n",
    "import pandas as pd\n",
    "import matplotlib.pyplot as plt\n",
    "import seaborn as sns\n",
    "import pickle\n",
    "import string\n",
    "import re\n",
    "#import fasttext\n",
    "#import fasttext.util\n",
    "#ft = fasttext.load_model('cc.es.300.bin') # load fasttext model\n",
    "import gensim\n",
    "from imblearn.over_sampling import SMOTE\n",
    "\n",
    "\n",
    "import nltk\n",
    "\n",
    "# Télécharger les ressources NLTK nécessaires\n",
    "nltk.download('stopwords')\n",
    "nltk.download('punkt')\n",
    "nltk.download('wordnet')\n",
    "\n",
    "# Maintenant, vous pouvez utiliser wordnet\n",
    "from nltk.corpus import wordnet\n",
    "\n",
    "syns = wordnet.synsets(\"program\")\n",
    "for syn in syns:\n",
    "    print(syn.name(), syn.definition())\n",
    "\n",
    "from nltk.corpus import stopwords\n",
    "from nltk.tokenize import word_tokenize\n",
    "from nltk.stem import PorterStemmer\n",
    "from nltk.stem import WordNetLemmatizer\n",
    "\n",
    "stemer = PorterStemmer()\n",
    "lemma = WordNetLemmatizer()\n",
    "\n",
    "from autocorrect import Speller\n",
    "speller = Speller()\n",
    "\n",
    "import contractions"
   ]
  },
  {
   "cell_type": "code",
   "execution_count": null,
   "metadata": {},
   "outputs": [],
   "source": [
    "# Load pre-trained word embeddings\n",
    "\n",
    "embedding_index = gensim.models.KeyedVectors.load_word2vec_format('../model/cc.es.300.vec')"
   ]
  },
  {
   "cell_type": "code",
   "execution_count": null,
   "metadata": {
    "id": "cTF3b0I_ICby"
   },
   "outputs": [
    {
     "data": {
      "text/html": [
       "<div>\n",
       "<style scoped>\n",
       "    .dataframe tbody tr th:only-of-type {\n",
       "        vertical-align: middle;\n",
       "    }\n",
       "\n",
       "    .dataframe tbody tr th {\n",
       "        vertical-align: top;\n",
       "    }\n",
       "\n",
       "    .dataframe thead th {\n",
       "        text-align: right;\n",
       "    }\n",
       "</style>\n",
       "<table border=\"1\" class=\"dataframe\">\n",
       "  <thead>\n",
       "    <tr style=\"text-align: right;\">\n",
       "      <th></th>\n",
       "      <th>Unnamed: 0</th>\n",
       "      <th>Tweet_ID</th>\n",
       "      <th>tweet</th>\n",
       "      <th>type</th>\n",
       "    </tr>\n",
       "  </thead>\n",
       "  <tbody>\n",
       "    <tr>\n",
       "      <th>0</th>\n",
       "      <td>0</td>\n",
       "      <td>ID_0022DWKP</td>\n",
       "      <td>Tuve un sueño que me violaron anoche.Por un ch...</td>\n",
       "      <td>sexual_violence</td>\n",
       "    </tr>\n",
       "    <tr>\n",
       "      <th>1</th>\n",
       "      <td>1</td>\n",
       "      <td>ID_00395QYM</td>\n",
       "      <td>Pensó que la palabra violada significa sexo y ...</td>\n",
       "      <td>sexual_violence</td>\n",
       "    </tr>\n",
       "    <tr>\n",
       "      <th>2</th>\n",
       "      <td>2</td>\n",
       "      <td>ID_003EOSSF</td>\n",
       "      <td>Ella no me habla, fui violado por 2 hombres 1 ...</td>\n",
       "      <td>sexual_violence</td>\n",
       "    </tr>\n",
       "    <tr>\n",
       "      <th>3</th>\n",
       "      <td>3</td>\n",
       "      <td>ID_004BBHOD</td>\n",
       "      <td>Fui abusado sexualmente durante 3 años a los 4...</td>\n",
       "      <td>sexual_violence</td>\n",
       "    </tr>\n",
       "    <tr>\n",
       "      <th>4</th>\n",
       "      <td>4</td>\n",
       "      <td>ID_004F7516</td>\n",
       "      <td>Play Prout puede hacerlo mejor diciendo la ver...</td>\n",
       "      <td>sexual_violence</td>\n",
       "    </tr>\n",
       "  </tbody>\n",
       "</table>\n",
       "</div>"
      ],
      "text/plain": [
       "   Unnamed: 0     Tweet_ID                                              tweet  \\\n",
       "0           0  ID_0022DWKP  Tuve un sueño que me violaron anoche.Por un ch...   \n",
       "1           1  ID_00395QYM  Pensó que la palabra violada significa sexo y ...   \n",
       "2           2  ID_003EOSSF  Ella no me habla, fui violado por 2 hombres 1 ...   \n",
       "3           3  ID_004BBHOD  Fui abusado sexualmente durante 3 años a los 4...   \n",
       "4           4  ID_004F7516  Play Prout puede hacerlo mejor diciendo la ver...   \n",
       "\n",
       "              type  \n",
       "0  sexual_violence  \n",
       "1  sexual_violence  \n",
       "2  sexual_violence  \n",
       "3  sexual_violence  \n",
       "4  sexual_violence  "
      ]
     },
     "execution_count": 5,
     "metadata": {},
     "output_type": "execute_result"
    }
   ],
   "source": [
    "# Load dataset\n",
    "\n",
    "dataset = pd.read_csv('../Datasets/TRAIN_SPANISH.csv')\n",
    "dataset.head()"
   ]
  },
  {
   "cell_type": "code",
   "execution_count": null,
   "metadata": {},
   "outputs": [
    {
     "data": {
      "text/plain": [
       "(39650, 4)"
      ]
     },
     "execution_count": 6,
     "metadata": {},
     "output_type": "execute_result"
    }
   ],
   "source": [
    "# Dataset shape\n",
    "\n",
    "dataset.shape"
   ]
  },
  {
   "cell_type": "markdown",
   "metadata": {
    "id": "akiuAiEyHoSs"
   },
   "source": [
    "## Data preprocessing\n",
    "\n",
    "We need to preprocess the data before feeding it to the neural network. We will use the following steps to preprocess the data:\n",
    "1. Check for missing data\n",
    "2. Check for duplicates\n",
    "3. Remove special characters (preprocess_text function)"
   ]
  },
  {
   "cell_type": "code",
   "execution_count": null,
   "metadata": {
    "colab": {
     "base_uri": "https://localhost:8080/",
     "height": 583
    },
    "id": "fL8IT5eJHlzz",
    "outputId": "a539ddc4-d9fa-454c-ca26-816755d55b45"
   },
   "outputs": [
    {
     "name": "stdout",
     "output_type": "stream",
     "text": [
      "Missing Data Report of each Features : \n",
      "Unnamed: 0    0\n",
      "Tweet_ID      0\n",
      "tweet         0\n",
      "type          0\n",
      "dtype: int64\n"
     ]
    },
    {
     "data": {
      "image/png": "[encoded data removed]",
      "text/plain": [
       "<Figure size 640x480 with 2 Axes>"
      ]
     },
     "metadata": {},
     "output_type": "display_data"
    }
   ],
   "source": [
    "# Check missing data\n",
    "\n",
    "print(\"Missing Data Report of each Features : \\n{}\".format(dataset.isna().sum()))\n",
    "\n",
    "sns.heatmap(\n",
    "    dataset.isna(),\n",
    "    cbar = 'viridis',\n",
    "    yticklabels = False\n",
    ")\n",
    "plt.xlabel('features')\n",
    "plt.ylabel('missing data')\n",
    "plt.title('heatmap for missing data')\n",
    "plt.show()\n",
    "plt.close()"
   ]
  },
  {
   "cell_type": "code",
   "execution_count": null,
   "metadata": {
    "colab": {
     "base_uri": "https://localhost:8080/"
    },
    "id": "JQNZiaNcHu9V",
    "outputId": "300aa137-1e26-4661-b629-36aee6719598"
   },
   "outputs": [
    {
     "name": "stdout",
     "output_type": "stream",
     "text": [
      "Duplicate Records in Dataset : \n",
      "0\n"
     ]
    }
   ],
   "source": [
    "# Check duplicate data\n",
    "\n",
    "print(\"Duplicate Records in Dataset : \\n{}\".format(dataset.duplicated().sum()))"
   ]
  },
  {
   "cell_type": "code",
   "execution_count": 23,
   "metadata": {
    "id": "orpxz3ZbLvU3"
   },
   "outputs": [],
   "source": [
    "# Preprocess text\n",
    "\n",
    "def preprocess_text(text):\n",
    "    # convert to lowercase\n",
    "    text = text.lower()\n",
    "    # expand contractions\n",
    "    text = contractions.fix(text)\n",
    "    # remove punctuation\n",
    "    text = text.translate(str.maketrans('', '', string.punctuation))\n",
    "    # remove numbers\n",
    "    text = re.sub(r'\\d+', '', text)\n",
    "    # remove stopwords\n",
    "    stop_words = set(stopwords.words('spanish'))\n",
    "    word_tokens = word_tokenize(text)\n",
    "    filtered_text = [word for word in word_tokens if word not in stop_words]\n",
    "    # stemming and lemmatization\n",
    "    stemmed = [stemer.stem(word) for word in filtered_text]\n",
    "    lemmatized = [lemma.lemmatize(word) for word in stemmed]\n",
    "    return ' '.join(lemmatized)"
   ]
  },
  {
   "cell_type": "code",
   "execution_count": null,
   "metadata": {
    "colab": {
     "base_uri": "https://localhost:8080/",
     "height": 206
    },
    "id": "owZJMgZAH1FO",
    "outputId": "289e78f1-2ed7-4357-b05f-9c9217504eeb"
   },
   "outputs": [
    {
     "data": {
      "text/html": [
       "<div>\n",
       "<style scoped>\n",
       "    .dataframe tbody tr th:only-of-type {\n",
       "        vertical-align: middle;\n",
       "    }\n",
       "\n",
       "    .dataframe tbody tr th {\n",
       "        vertical-align: top;\n",
       "    }\n",
       "\n",
       "    .dataframe thead th {\n",
       "        text-align: right;\n",
       "    }\n",
       "</style>\n",
       "<table border=\"1\" class=\"dataframe\">\n",
       "  <thead>\n",
       "    <tr style=\"text-align: right;\">\n",
       "      <th></th>\n",
       "      <th>Unnamed: 0</th>\n",
       "      <th>Tweet_ID</th>\n",
       "      <th>tweet</th>\n",
       "      <th>type</th>\n",
       "      <th>tweet_preprocessed</th>\n",
       "    </tr>\n",
       "  </thead>\n",
       "  <tbody>\n",
       "    <tr>\n",
       "      <th>0</th>\n",
       "      <td>0</td>\n",
       "      <td>ID_0022DWKP</td>\n",
       "      <td>Tuve un sueño que me violaron anoche.Por un ch...</td>\n",
       "      <td>sexual_violence</td>\n",
       "      <td>sueño violaron anochepor chico trabajoen reali...</td>\n",
       "    </tr>\n",
       "    <tr>\n",
       "      <th>1</th>\n",
       "      <td>1</td>\n",
       "      <td>ID_00395QYM</td>\n",
       "      <td>Pensó que la palabra violada significa sexo y ...</td>\n",
       "      <td>sexual_violence</td>\n",
       "      <td>pensó palabra violada significa sexo dijo vi p...</td>\n",
       "    </tr>\n",
       "    <tr>\n",
       "      <th>2</th>\n",
       "      <td>2</td>\n",
       "      <td>ID_003EOSSF</td>\n",
       "      <td>Ella no me habla, fui violado por 2 hombres 1 ...</td>\n",
       "      <td>sexual_violence</td>\n",
       "      <td>habla violado hombr abusó cárcel carga así dig...</td>\n",
       "    </tr>\n",
       "    <tr>\n",
       "      <th>3</th>\n",
       "      <td>3</td>\n",
       "      <td>ID_004BBHOD</td>\n",
       "      <td>Fui abusado sexualmente durante 3 años a los 4...</td>\n",
       "      <td>sexual_violence</td>\n",
       "      <td>abusado sexualment año año nadi creyófui viola...</td>\n",
       "    </tr>\n",
       "    <tr>\n",
       "      <th>4</th>\n",
       "      <td>4</td>\n",
       "      <td>ID_004F7516</td>\n",
       "      <td>Play Prout puede hacerlo mejor diciendo la ver...</td>\n",
       "      <td>sexual_violence</td>\n",
       "      <td>play prout pued hacerlo mejor diciendo verdad ...</td>\n",
       "    </tr>\n",
       "  </tbody>\n",
       "</table>\n",
       "</div>"
      ],
      "text/plain": [
       "   Unnamed: 0     Tweet_ID                                              tweet  \\\n",
       "0           0  ID_0022DWKP  Tuve un sueño que me violaron anoche.Por un ch...   \n",
       "1           1  ID_00395QYM  Pensó que la palabra violada significa sexo y ...   \n",
       "2           2  ID_003EOSSF  Ella no me habla, fui violado por 2 hombres 1 ...   \n",
       "3           3  ID_004BBHOD  Fui abusado sexualmente durante 3 años a los 4...   \n",
       "4           4  ID_004F7516  Play Prout puede hacerlo mejor diciendo la ver...   \n",
       "\n",
       "              type                                 tweet_preprocessed  \n",
       "0  sexual_violence  sueño violaron anochepor chico trabajoen reali...  \n",
       "1  sexual_violence  pensó palabra violada significa sexo dijo vi p...  \n",
       "2  sexual_violence  habla violado hombr abusó cárcel carga así dig...  \n",
       "3  sexual_violence  abusado sexualment año año nadi creyófui viola...  \n",
       "4  sexual_violence  play prout pued hacerlo mejor diciendo verdad ...  "
      ]
     },
     "execution_count": 7,
     "metadata": {},
     "output_type": "execute_result"
    }
   ],
   "source": [
    "# Apply preprocess_text function to 'tweet' column\n",
    "\n",
    "dataset['tweet_preprocessed'] = dataset['tweet'].astype(str).apply(preprocess_text)\n",
    "dataset.head()"
   ]
  },
  {
   "cell_type": "code",
   "execution_count": null,
   "metadata": {},
   "outputs": [
    {
     "data": {
      "text/plain": [
       "type\n",
       "sexual_violence                 32648\n",
       "Physical_violence                5946\n",
       "emotional_violence                651\n",
       "economic_violence                 217\n",
       "Harmful_Traditional_practice      188\n",
       "Name: count, dtype: int64"
      ]
     },
     "execution_count": 123,
     "metadata": {},
     "output_type": "execute_result"
    }
   ],
   "source": [
    "dataset['type'].value_counts()"
   ]
  },
  {
   "cell_type": "code",
   "execution_count": null,
   "metadata": {
    "id": "G7GMZnNTH-uK"
   },
   "outputs": [],
   "source": [
    "# Save preprocessed dataset\n",
    "\n",
    "dataset.to_csv(\"../Datasets/Preproceses_train.csv\")"
   ]
  },
  {
   "cell_type": "code",
   "execution_count": null,
   "metadata": {},
   "outputs": [],
   "source": [
    "dataset = pd.read_csv(\"../Datasets/Preproceses_train.csv\")"
   ]
  },
  {
   "cell_type": "markdown",
   "metadata": {},
   "source": [
    "## Build Neural Network"
   ]
  },
  {
   "cell_type": "code",
   "execution_count": null,
   "metadata": {
    "id": "HYsroaSoH-q0"
   },
   "outputs": [],
   "source": [
    "# Categorical data management\n",
    "\n",
    "# Label encoding\n",
    "from sklearn.preprocessing import LabelEncoder\n",
    "label_encoder = LabelEncoder()\n",
    "dataset['label_encode'] = label_encoder.fit_transform(dataset['type'])"
   ]
  },
  {
   "cell_type": "code",
   "execution_count": null,
   "metadata": {
    "id": "ujnbutZuKG2G"
   },
   "outputs": [],
   "source": [
    "# MLP\n",
    "from sklearn.preprocessing import LabelEncoder\n",
    "from sklearn.metrics import confusion_matrix\n",
    "from sklearn.utils.class_weight import compute_class_weight\n",
    "from tensorflow.keras.models import Sequential, load_model\n",
    "from tensorflow.keras.layers import Embedding, Flatten, Dense, Dropout, LSTM, Bidirectional, BatchNormalization\n",
    "from tensorflow.keras.preprocessing.text import Tokenizer\n",
    "from tensorflow.keras.preprocessing.sequence import pad_sequences\n",
    "from tensorflow.keras.utils import to_categorical\n",
    "from tensorflow.keras.initializers import Constant\n",
    "from tensorflow.keras.callbacks import EarlyStopping\n",
    "\n",
    "\n",
    "# Tokenize and pad the text\n",
    "max_words = 10000\n",
    "maxlen = 100\n",
    "\n",
    "tokenizer = Tokenizer(num_words=max_words)\n",
    "tokenizer.fit_on_texts(dataset['tweet_preprocessed'])\n",
    "sequences = tokenizer.texts_to_sequences(dataset['tweet_preprocessed'])\n",
    "X = pad_sequences(sequences, maxlen=maxlen)\n",
    "y = dataset['label_encode']\n",
    "y = to_categorical(y)"
   ]
  },
  {
   "cell_type": "code",
   "execution_count": null,
   "metadata": {
    "id": "iWocz_ySKQo2"
   },
   "outputs": [],
   "source": [
    "# Split dataset\n",
    "from sklearn.model_selection import train_test_split\n",
    "X_train, X_test, y_train, y_test = train_test_split(X, y, test_size=0.2)"
   ]
  },
  {
   "cell_type": "code",
   "execution_count": null,
   "metadata": {},
   "outputs": [],
   "source": [
    "class_names = dataset['type'].unique()\n",
    "\n",
    "with open('../model/class_names.pickle', 'wb') as handle:\n",
    "    pickle.dump(class_names, handle)"
   ]
  },
  {
   "cell_type": "code",
   "execution_count": 124,
   "metadata": {},
   "outputs": [
    {
     "name": "stdout",
     "output_type": "stream",
     "text": [
      "Epoch 1/100\n"
     ]
    },
    {
     "name": "stderr",
     "output_type": "stream",
     "text": [
      "e:\\UdeA\\Física Computacional 1\\proyecto-vbg\\venv\\lib\\site-packages\\keras\\src\\layers\\core\\embedding.py:90: UserWarning: Argument `input_length` is deprecated. Just remove it.\n",
      "  warnings.warn(\n"
     ]
    },
    {
     "name": "stdout",
     "output_type": "stream",
     "text": [
      "\u001b[1m3675/3675\u001b[0m \u001b[32m━━━━━━━━━━━━━━━━━━━━\u001b[0m\u001b[37m\u001b[0m \u001b[1m1280s\u001b[0m 345ms/step - accuracy: 0.2704 - loss: 21.5533 - val_accuracy: 0.0000e+00 - val_loss: 2.5163\n",
      "Epoch 2/100\n",
      "\u001b[1m3675/3675\u001b[0m \u001b[32m━━━━━━━━━━━━━━━━━━━━\u001b[0m\u001b[37m\u001b[0m \u001b[1m1432s\u001b[0m 390ms/step - accuracy: 0.3956 - loss: 15.2710 - val_accuracy: 5.3578e-04 - val_loss: 2.0995\n",
      "Epoch 3/100\n",
      "\u001b[1m3675/3675\u001b[0m \u001b[32m━━━━━━━━━━━━━━━━━━━━\u001b[0m\u001b[37m\u001b[0m \u001b[1m1439s\u001b[0m 391ms/step - accuracy: 0.4332 - loss: 13.5511 - val_accuracy: 0.0628 - val_loss: 2.2594\n",
      "Epoch 4/100\n",
      "\u001b[1m3675/3675\u001b[0m \u001b[32m━━━━━━━━━━━━━━━━━━━━\u001b[0m\u001b[37m\u001b[0m \u001b[1m1442s\u001b[0m 392ms/step - accuracy: 0.4824 - loss: 11.1557 - val_accuracy: 0.0771 - val_loss: 2.3797\n",
      "Epoch 5/100\n",
      "\u001b[1m3675/3675\u001b[0m \u001b[32m━━━━━━━━━━━━━━━━━━━━\u001b[0m\u001b[37m\u001b[0m \u001b[1m1437s\u001b[0m 391ms/step - accuracy: 0.5136 - loss: 8.8594 - val_accuracy: 0.1398 - val_loss: 2.0708\n",
      "Epoch 6/100\n",
      "\u001b[1m3675/3675\u001b[0m \u001b[32m━━━━━━━━━━━━━━━━━━━━\u001b[0m\u001b[37m\u001b[0m \u001b[1m1435s\u001b[0m 390ms/step - accuracy: 0.5462 - loss: 6.9716 - val_accuracy: 0.1491 - val_loss: 2.1400\n",
      "Epoch 7/100\n",
      "\u001b[1m3675/3675\u001b[0m \u001b[32m━━━━━━━━━━━━━━━━━━━━\u001b[0m\u001b[37m\u001b[0m \u001b[1m1428s\u001b[0m 389ms/step - accuracy: 0.5643 - loss: 5.7058 - val_accuracy: 0.2182 - val_loss: 2.0830\n",
      "Epoch 8/100\n",
      "\u001b[1m3675/3675\u001b[0m \u001b[32m━━━━━━━━━━━━━━━━━━━━\u001b[0m\u001b[37m\u001b[0m \u001b[1m1431s\u001b[0m 389ms/step - accuracy: 0.5854 - loss: 4.7671 - val_accuracy: 0.3010 - val_loss: 1.9641\n",
      "Epoch 9/100\n",
      "\u001b[1m3675/3675\u001b[0m \u001b[32m━━━━━━━━━━━━━━━━━━━━\u001b[0m\u001b[37m\u001b[0m \u001b[1m1403s\u001b[0m 382ms/step - accuracy: 0.6045 - loss: 4.2862 - val_accuracy: 0.3488 - val_loss: 1.9161\n",
      "Epoch 10/100\n",
      "\u001b[1m3675/3675\u001b[0m \u001b[32m━━━━━━━━━━━━━━━━━━━━\u001b[0m\u001b[37m\u001b[0m \u001b[1m1387s\u001b[0m 377ms/step - accuracy: 0.6195 - loss: 3.9282 - val_accuracy: 0.3259 - val_loss: 2.0130\n",
      "Epoch 11/100\n",
      "\u001b[1m3675/3675\u001b[0m \u001b[32m━━━━━━━━━━━━━━━━━━━━\u001b[0m\u001b[37m\u001b[0m \u001b[1m1413s\u001b[0m 385ms/step - accuracy: 0.6283 - loss: 3.5071 - val_accuracy: 0.3607 - val_loss: 2.1748\n",
      "Epoch 12/100\n",
      "\u001b[1m3675/3675\u001b[0m \u001b[32m━━━━━━━━━━━━━━━━━━━━\u001b[0m\u001b[37m\u001b[0m \u001b[1m1401s\u001b[0m 381ms/step - accuracy: 0.6478 - loss: 3.2163 - val_accuracy: 0.4191 - val_loss: 2.2344\n",
      "Epoch 13/100\n",
      "\u001b[1m3675/3675\u001b[0m \u001b[32m━━━━━━━━━━━━━━━━━━━━\u001b[0m\u001b[37m\u001b[0m \u001b[1m1360s\u001b[0m 370ms/step - accuracy: 0.6582 - loss: 2.9136 - val_accuracy: 0.3912 - val_loss: 2.4171\n",
      "Epoch 14/100\n",
      "\u001b[1m3675/3675\u001b[0m \u001b[32m━━━━━━━━━━━━━━━━━━━━\u001b[0m\u001b[37m\u001b[0m \u001b[1m1386s\u001b[0m 377ms/step - accuracy: 0.6750 - loss: 2.7948 - val_accuracy: 0.3771 - val_loss: 2.3839\n",
      "Epoch 15/100\n",
      "\u001b[1m3675/3675\u001b[0m \u001b[32m━━━━━━━━━━━━━━━━━━━━\u001b[0m\u001b[37m\u001b[0m \u001b[1m1397s\u001b[0m 380ms/step - accuracy: 0.6823 - loss: 2.6768 - val_accuracy: 0.4128 - val_loss: 2.4060\n",
      "Epoch 16/100\n",
      "\u001b[1m3675/3675\u001b[0m \u001b[32m━━━━━━━━━━━━━━━━━━━━\u001b[0m\u001b[37m\u001b[0m \u001b[1m1394s\u001b[0m 379ms/step - accuracy: 0.6916 - loss: 2.5453 - val_accuracy: 0.3979 - val_loss: 2.6536\n",
      "Epoch 17/100\n",
      "\u001b[1m3675/3675\u001b[0m \u001b[32m━━━━━━━━━━━━━━━━━━━━\u001b[0m\u001b[37m\u001b[0m \u001b[1m1391s\u001b[0m 378ms/step - accuracy: 0.7007 - loss: 2.3622 - val_accuracy: 0.5010 - val_loss: 1.9678\n",
      "Epoch 18/100\n",
      "\u001b[1m3675/3675\u001b[0m \u001b[32m━━━━━━━━━━━━━━━━━━━━\u001b[0m\u001b[37m\u001b[0m \u001b[1m1388s\u001b[0m 378ms/step - accuracy: 0.7049 - loss: 2.3332 - val_accuracy: 0.4702 - val_loss: 2.5013\n",
      "Epoch 19/100\n",
      "\u001b[1m3675/3675\u001b[0m \u001b[32m━━━━━━━━━━━━━━━━━━━━\u001b[0m\u001b[37m\u001b[0m \u001b[1m1388s\u001b[0m 378ms/step - accuracy: 0.7099 - loss: 2.3322 - val_accuracy: 0.4452 - val_loss: 2.6944\n",
      "\u001b[1m992/992\u001b[0m \u001b[32m━━━━━━━━━━━━━━━━━━━━\u001b[0m\u001b[37m\u001b[0m \u001b[1m102s\u001b[0m 101ms/step - accuracy: 0.1361 - loss: 3.1328\n",
      "\u001b[1m248/248\u001b[0m \u001b[32m━━━━━━━━━━━━━━━━━━━━\u001b[0m\u001b[37m\u001b[0m \u001b[1m24s\u001b[0m 97ms/step - accuracy: 0.1352 - loss: 3.2315\n",
      "Training Accuracy: 0.1369, Training Loss: 3.1477\n",
      "Testing Accuracy: 0.1298, Testing Loss: 3.2458\n"
     ]
    }
   ],
   "source": [
    "# Use SMOTE to balance the training set\n",
    "smote = SMOTE()\n",
    "X_train_res, y_train_res = smote.fit_resample(X_train, y_train)\n",
    "\n",
    "# Build the pre-trained model\n",
    "embedding_dim = 300\n",
    "word_index = tokenizer.word_index\n",
    "embedding_matrix = np.zeros((max_words, embedding_dim))\n",
    "for word, i in word_index.items():\n",
    "    if i < max_words:\n",
    "        if word in embedding_index:\n",
    "            embedding_matrix[i] = embedding_index[word]\n",
    "\n",
    "# Build the model\n",
    "model = Sequential()\n",
    "model.add(Embedding(max_words, embedding_dim, input_length=maxlen, embeddings_initializer=Constant(embedding_matrix), trainable=True))\n",
    "model.add(Bidirectional(LSTM(128, return_sequences=True)))\n",
    "model.add(BatchNormalization())\n",
    "model.add(Dropout(0.5))\n",
    "model.add(Bidirectional(LSTM(64)))\n",
    "model.add(BatchNormalization())\n",
    "model.add(Dropout(0.5))\n",
    "model.add(Dense(128, activation='relu'))\n",
    "model.add(Dropout(0.5))\n",
    "model.add(Dense(len(class_names), activation='softmax'))  # Number of classes should match the length of genre_class_names\n",
    "\n",
    "# Compile the model with a lower learning rate\n",
    "model.compile(optimizer='adam', loss='categorical_crossentropy', metrics=['accuracy'])\n",
    "\n",
    "# Calculate class weights using sklearn\n",
    "y_integers = np.argmax(y_train, axis=1)\n",
    "class_weights = compute_class_weight('balanced', classes=np.unique(y_integers), y=y_integers)\n",
    "class_weights = dict(enumerate(class_weights))\n",
    "\n",
    "# Manually adjust class weights if needed (optional)\n",
    "class_weights[4] = class_weights[4] * 2  # Increase the weight for 'economic_violence'\n",
    "\n",
    "# Early stopping to prevent overfitting\n",
    "early_stopping = EarlyStopping(monitor='val_loss', patience=10, restore_best_weights=True)\n",
    "\n",
    "# Train the model with class weights\n",
    "model.fit(X_train_res, y_train_res, epochs=100, batch_size=32, validation_split=0.1, class_weight=class_weights, callbacks=[early_stopping])\n",
    "\n",
    "# Evaluate the model\n",
    "train_loss, train_accuracy = model.evaluate(X_train, y_train)\n",
    "test_loss, test_accuracy = model.evaluate(X_test, y_test)\n",
    "\n",
    "print(f\"Training Accuracy: {train_accuracy:.4f}, Training Loss: {train_loss:.4f}\")\n",
    "print(f\"Testing Accuracy: {test_accuracy:.4f}, Testing Loss: {test_loss:.4f}\")"
   ]
  },
  {
   "cell_type": "code",
   "execution_count": 77,
   "metadata": {
    "id": "JPUqnmj1L3g_"
   },
   "outputs": [
    {
     "name": "stderr",
     "output_type": "stream",
     "text": [
      "WARNING:absl:You are saving your model as an HDF5 file via `model.save()` or `keras.saving.save_model(model)`. This file format is considered legacy. We recommend using instead the native Keras format, e.g. `model.save('my_model.keras')` or `keras.saving.save_model(model, 'my_model.keras')`. \n"
     ]
    }
   ],
   "source": [
    "# Save model\n",
    "model.save('../model/model_.h5')"
   ]
  },
  {
   "cell_type": "code",
   "execution_count": 78,
   "metadata": {},
   "outputs": [],
   "source": [
    "# Guardar class_weights en un archivo\n",
    "with open('../model/class_weights_.pickle', 'wb') as handle:\n",
    "    pickle.dump(class_weights, handle, protocol=pickle.HIGHEST_PROTOCOL)"
   ]
  },
  {
   "cell_type": "code",
   "execution_count": 75,
   "metadata": {},
   "outputs": [
    {
     "name": "stdout",
     "output_type": "stream",
     "text": [
      "Epoch 1/15\n",
      "\u001b[1m3671/3671\u001b[0m \u001b[32m━━━━━━━━━━━━━━━━━━━━\u001b[0m\u001b[37m\u001b[0m \u001b[1m881s\u001b[0m 238ms/step - accuracy: 0.7587 - loss: 2.0909 - val_accuracy: 0.4300 - val_loss: 2.7457\n",
      "Epoch 2/15\n",
      "\u001b[1m3671/3671\u001b[0m \u001b[32m━━━━━━━━━━━━━━━━━━━━\u001b[0m\u001b[37m\u001b[0m \u001b[1m1148s\u001b[0m 313ms/step - accuracy: 0.7593 - loss: 2.0923 - val_accuracy: 0.4208 - val_loss: 2.7642\n",
      "Epoch 3/15\n",
      "\u001b[1m3671/3671\u001b[0m \u001b[32m━━━━━━━━━━━━━━━━━━━━\u001b[0m\u001b[37m\u001b[0m \u001b[1m1144s\u001b[0m 311ms/step - accuracy: 0.7633 - loss: 2.0580 - val_accuracy: 0.4120 - val_loss: 2.7360\n",
      "Epoch 4/15\n",
      "\u001b[1m3671/3671\u001b[0m \u001b[32m━━━━━━━━━━━━━━━━━━━━\u001b[0m\u001b[37m\u001b[0m \u001b[1m1157s\u001b[0m 315ms/step - accuracy: 0.7634 - loss: 1.9357 - val_accuracy: 0.4381 - val_loss: 2.9127\n",
      "Epoch 5/15\n",
      "\u001b[1m3671/3671\u001b[0m \u001b[32m━━━━━━━━━━━━━━━━━━━━\u001b[0m\u001b[37m\u001b[0m \u001b[1m1130s\u001b[0m 308ms/step - accuracy: 0.7655 - loss: 1.8527 - val_accuracy: 0.4165 - val_loss: 2.8566\n",
      "Epoch 6/15\n",
      "\u001b[1m3671/3671\u001b[0m \u001b[32m━━━━━━━━━━━━━━━━━━━━\u001b[0m\u001b[37m\u001b[0m \u001b[1m1138s\u001b[0m 310ms/step - accuracy: 0.7679 - loss: 1.9012 - val_accuracy: 0.4610 - val_loss: 2.6927\n",
      "Epoch 7/15\n",
      "\u001b[1m3671/3671\u001b[0m \u001b[32m━━━━━━━━━━━━━━━━━━━━\u001b[0m\u001b[37m\u001b[0m \u001b[1m1217s\u001b[0m 332ms/step - accuracy: 0.7698 - loss: 1.8690 - val_accuracy: 0.4534 - val_loss: 3.1856\n",
      "Epoch 8/15\n",
      "\u001b[1m3671/3671\u001b[0m \u001b[32m━━━━━━━━━━━━━━━━━━━━\u001b[0m\u001b[37m\u001b[0m \u001b[1m4937s\u001b[0m 1s/step - accuracy: 0.7806 - loss: 1.7999 - val_accuracy: 0.4319 - val_loss: 3.0101\n",
      "Epoch 9/15\n",
      "\u001b[1m3671/3671\u001b[0m \u001b[32m━━━━━━━━━━━━━━━━━━━━\u001b[0m\u001b[37m\u001b[0m \u001b[1m1014s\u001b[0m 276ms/step - accuracy: 0.7685 - loss: 1.9211 - val_accuracy: 0.4620 - val_loss: 2.8942\n",
      "Epoch 10/15\n",
      "\u001b[1m3671/3671\u001b[0m \u001b[32m━━━━━━━━━━━━━━━━━━━━\u001b[0m\u001b[37m\u001b[0m \u001b[1m1086s\u001b[0m 296ms/step - accuracy: 0.7718 - loss: 1.9670 - val_accuracy: 0.4363 - val_loss: 2.9546\n",
      "Epoch 11/15\n",
      "\u001b[1m3671/3671\u001b[0m \u001b[32m━━━━━━━━━━━━━━━━━━━━\u001b[0m\u001b[37m\u001b[0m \u001b[1m1128s\u001b[0m 307ms/step - accuracy: 0.7704 - loss: 1.9077 - val_accuracy: 0.4609 - val_loss: 3.1293\n",
      "Epoch 12/15\n",
      "\u001b[1m3671/3671\u001b[0m \u001b[32m━━━━━━━━━━━━━━━━━━━━\u001b[0m\u001b[37m\u001b[0m \u001b[1m6698s\u001b[0m 2s/step - accuracy: 0.7737 - loss: 1.8125 - val_accuracy: 0.4211 - val_loss: 3.0532\n",
      "Epoch 13/15\n",
      "\u001b[1m3671/3671\u001b[0m \u001b[32m━━━━━━━━━━━━━━━━━━━━\u001b[0m\u001b[37m\u001b[0m \u001b[1m1170s\u001b[0m 319ms/step - accuracy: 0.7791 - loss: 1.8008 - val_accuracy: 0.4639 - val_loss: 2.9917\n",
      "Epoch 14/15\n",
      "\u001b[1m3671/3671\u001b[0m \u001b[32m━━━━━━━━━━━━━━━━━━━━\u001b[0m\u001b[37m\u001b[0m \u001b[1m1056s\u001b[0m 288ms/step - accuracy: 0.7832 - loss: 1.7898 - val_accuracy: 0.4595 - val_loss: 3.0911\n",
      "Epoch 15/15\n",
      "\u001b[1m3671/3671\u001b[0m \u001b[32m━━━━━━━━━━━━━━━━━━━━\u001b[0m\u001b[37m\u001b[0m \u001b[1m1837s\u001b[0m 500ms/step - accuracy: 0.7829 - loss: 1.7813 - val_accuracy: 0.4336 - val_loss: 3.2170\n",
      "\u001b[1m992/992\u001b[0m \u001b[32m━━━━━━━━━━━━━━━━━━━━\u001b[0m\u001b[37m\u001b[0m \u001b[1m141s\u001b[0m 140ms/step - accuracy: 0.5100 - loss: 2.0269\n",
      "\u001b[1m248/248\u001b[0m \u001b[32m━━━━━━━━━━━━━━━━━━━━\u001b[0m\u001b[37m\u001b[0m \u001b[1m35s\u001b[0m 139ms/step - accuracy: 0.4510 - loss: 2.4356\n",
      "Training Accuracy: 0.5095, Training Loss: 2.0226\n",
      "Testing Accuracy: 0.4551, Testing Loss: 2.4155\n"
     ]
    }
   ],
   "source": [
    "# Load the saved model\n",
    "#model = load_model('../model/model.h5')\n",
    "\n",
    "# Recompile the model with the same optimizer and loss function\n",
    "model.compile(optimizer='adam', loss='categorical_crossentropy', metrics=['accuracy'])\n",
    "\n",
    "# Early stopping to prevent overfitting\n",
    "early_stopping = EarlyStopping(monitor='val_loss', patience=10, restore_best_weights=True)\n",
    "\n",
    "# Continue training the model with class weights\n",
    "model.fit(X_train_res, y_train_res, epochs=15, batch_size=32, validation_split=0.1, class_weight=class_weights, callbacks=[early_stopping])\n",
    "\n",
    "# Evaluate the model\n",
    "train_loss, train_accuracy = model.evaluate(X_train, y_train)\n",
    "test_loss, test_accuracy = model.evaluate(X_test, y_test)\n",
    "\n",
    "print(f\"Training Accuracy: {train_accuracy:.4f}, Training Loss: {train_loss:.4f}\")\n",
    "print(f\"Testing Accuracy: {test_accuracy:.4f}, Testing Loss: {test_loss:.4f}\")"
   ]
  },
  {
   "cell_type": "code",
   "execution_count": 76,
   "metadata": {},
   "outputs": [
    {
     "name": "stdout",
     "output_type": "stream",
     "text": [
      "\u001b[1m248/248\u001b[0m \u001b[32m━━━━━━━━━━━━━━━━━━━━\u001b[0m\u001b[37m\u001b[0m \u001b[1m15s\u001b[0m 59ms/step\n"
     ]
    },
    {
     "data": {
      "image/png": "[encoded data removed]",
      "text/plain": [
       "<Figure size 1500x1500 with 1 Axes>"
      ]
     },
     "metadata": {},
     "output_type": "display_data"
    }
   ],
   "source": [
    "# Load the class names\n",
    "with open('../model/class_names.pickle', 'rb') as handle:\n",
    "    class_names = pickle.load(handle)\n",
    "\n",
    "# Predict the labels for the test set\n",
    "y_pred = model.predict(X_test)\n",
    "y_pred_classes = np.argmax(y_pred, axis=1)\n",
    "y_true_classes = np.argmax(y_test, axis=1)\n",
    "\n",
    "# Plot the confusion matrix\n",
    "tick_labels = class_names\n",
    "fig, ax = plt.subplots(figsize=(15, 15))\n",
    "conf_matrix = confusion_matrix(y_true_classes, y_pred_classes)\n",
    "conf_matrix = conf_matrix / np.sum(conf_matrix, axis=1)[:, None]\n",
    "sns.heatmap(conf_matrix, annot=True, fmt=\".2f\", square=True, cbar=False,\n",
    "            xticklabels=tick_labels, yticklabels=tick_labels, cmap=plt.cm.YlGn, ax=ax)\n",
    "ax.set_ylabel('Actual')\n",
    "ax.set_xlabel('Predicted')\n",
    "ax.set_title('Confusion Matrix')\n",
    "plt.show()"
   ]
  },
  {
   "cell_type": "code",
   "execution_count": 65,
   "metadata": {},
   "outputs": [
    {
     "name": "stderr",
     "output_type": "stream",
     "text": [
      "WARNING:absl:You are saving your model as an HDF5 file via `model.save()` or `keras.saving.save_model(model)`. This file format is considered legacy. We recommend using instead the native Keras format, e.g. `model.save('my_model.keras')` or `keras.saving.save_model(model, 'my_model.keras')`. \n"
     ]
    }
   ],
   "source": [
    "# Save model\n",
    "model.save('../model/model_.h5')"
   ]
  },
  {
   "cell_type": "code",
   "execution_count": 66,
   "metadata": {},
   "outputs": [],
   "source": [
    "# Guardar class_weights en un archivo\n",
    "with open('../model/class_weights_.pickle', 'wb') as handle:\n",
    "    pickle.dump(class_weights, handle, protocol=pickle.HIGHEST_PROTOCOL)"
   ]
  },
  {
   "cell_type": "code",
   "execution_count": 67,
   "metadata": {},
   "outputs": [
    {
     "name": "stdout",
     "output_type": "stream",
     "text": [
      "Epoch 1/15\n",
      "\u001b[1m3671/3671\u001b[0m \u001b[32m━━━━━━━━━━━━━━━━━━━━\u001b[0m\u001b[37m\u001b[0m \u001b[1m1041s\u001b[0m 281ms/step - accuracy: 0.7559 - loss: 2.1031 - val_accuracy: 0.4525 - val_loss: 2.7836\n",
      "Epoch 2/15\n",
      "\u001b[1m3671/3671\u001b[0m \u001b[32m━━━━━━━━━━━━━━━━━━━━\u001b[0m\u001b[37m\u001b[0m \u001b[1m1162s\u001b[0m 317ms/step - accuracy: 0.7579 - loss: 2.0273 - val_accuracy: 0.4102 - val_loss: 2.9204\n",
      "Epoch 3/15\n",
      "\u001b[1m3671/3671\u001b[0m \u001b[32m━━━━━━━━━━━━━━━━━━━━\u001b[0m\u001b[37m\u001b[0m \u001b[1m1159s\u001b[0m 316ms/step - accuracy: 0.7554 - loss: 2.0832 - val_accuracy: 0.3775 - val_loss: 3.1507\n",
      "Epoch 4/15\n",
      "\u001b[1m3671/3671\u001b[0m \u001b[32m━━━━━━━━━━━━━━━━━━━━\u001b[0m\u001b[37m\u001b[0m \u001b[1m1145s\u001b[0m 312ms/step - accuracy: 0.7681 - loss: 1.8785 - val_accuracy: 0.4128 - val_loss: 3.0331\n",
      "Epoch 5/15\n",
      "\u001b[1m3671/3671\u001b[0m \u001b[32m━━━━━━━━━━━━━━━━━━━━\u001b[0m\u001b[37m\u001b[0m \u001b[1m1141s\u001b[0m 311ms/step - accuracy: 0.7628 - loss: 1.9680 - val_accuracy: 0.4014 - val_loss: 3.1525\n",
      "Epoch 6/15\n",
      "\u001b[1m3671/3671\u001b[0m \u001b[32m━━━━━━━━━━━━━━━━━━━━\u001b[0m\u001b[37m\u001b[0m \u001b[1m1142s\u001b[0m 311ms/step - accuracy: 0.7657 - loss: 1.9850 - val_accuracy: 0.4435 - val_loss: 2.7923\n",
      "Epoch 7/15\n",
      "\u001b[1m3671/3671\u001b[0m \u001b[32m━━━━━━━━━━━━━━━━━━━━\u001b[0m\u001b[37m\u001b[0m \u001b[1m1141s\u001b[0m 311ms/step - accuracy: 0.7669 - loss: 1.9280 - val_accuracy: 0.4649 - val_loss: 2.8559\n",
      "Epoch 8/15\n",
      "\u001b[1m3671/3671\u001b[0m \u001b[32m━━━━━━━━━━━━━━━━━━━━\u001b[0m\u001b[37m\u001b[0m \u001b[1m1140s\u001b[0m 310ms/step - accuracy: 0.7755 - loss: 1.8500 - val_accuracy: 0.4287 - val_loss: 2.7920\n",
      "Epoch 9/15\n",
      "\u001b[1m3671/3671\u001b[0m \u001b[32m━━━━━━━━━━━━━━━━━━━━\u001b[0m\u001b[37m\u001b[0m \u001b[1m1143s\u001b[0m 311ms/step - accuracy: 0.7743 - loss: 1.9623 - val_accuracy: 0.4316 - val_loss: 3.0237\n",
      "Epoch 10/15\n",
      "\u001b[1m3671/3671\u001b[0m \u001b[32m━━━━━━━━━━━━━━━━━━━━\u001b[0m\u001b[37m\u001b[0m \u001b[1m1183s\u001b[0m 322ms/step - accuracy: 0.7698 - loss: 1.9748 - val_accuracy: 0.3858 - val_loss: 3.1695\n",
      "Epoch 11/15\n",
      "\u001b[1m3671/3671\u001b[0m \u001b[32m━━━━━━━━━━━━━━━━━━━━\u001b[0m\u001b[37m\u001b[0m \u001b[1m1183s\u001b[0m 322ms/step - accuracy: 0.7741 - loss: 1.8949 - val_accuracy: 0.3810 - val_loss: 3.4351\n",
      "\u001b[1m992/992\u001b[0m \u001b[32m━━━━━━━━━━━━━━━━━━━━\u001b[0m\u001b[37m\u001b[0m \u001b[1m87s\u001b[0m 85ms/step - accuracy: 0.5669 - loss: 1.7386\n",
      "\u001b[1m248/248\u001b[0m \u001b[32m━━━━━━━━━━━━━━━━━━━━\u001b[0m\u001b[37m\u001b[0m \u001b[1m21s\u001b[0m 86ms/step - accuracy: 0.5054 - loss: 2.1148\n",
      "Training Accuracy: 0.5666, Training Loss: 1.7325\n",
      "Testing Accuracy: 0.5101, Testing Loss: 2.0816\n"
     ]
    }
   ],
   "source": [
    "# Load the saved model\n",
    "#model = load_model('../model/model.h5')\n",
    "\n",
    "# Recompile the model with the same optimizer and loss function\n",
    "model.compile(optimizer='adam', loss='categorical_crossentropy', metrics=['accuracy'])\n",
    "\n",
    "# Early stopping to prevent overfitting\n",
    "early_stopping = EarlyStopping(monitor='val_loss', patience=10, restore_best_weights=True)\n",
    "\n",
    "# Continue training the model with class weights\n",
    "model.fit(X_train_res, y_train_res, epochs=15, batch_size=32, validation_split=0.1, class_weight=class_weights, callbacks=[early_stopping])\n",
    "\n",
    "# Evaluate the model\n",
    "train_loss, train_accuracy = model.evaluate(X_train, y_train)\n",
    "test_loss, test_accuracy = model.evaluate(X_test, y_test)\n",
    "\n",
    "print(f\"Training Accuracy: {train_accuracy:.4f}, Training Loss: {train_loss:.4f}\")\n",
    "print(f\"Testing Accuracy: {test_accuracy:.4f}, Testing Loss: {test_loss:.4f}\")"
   ]
  }
 ],
 "metadata": {
  "colab": {
   "provenance": []
  },
  "kernelspec": {
   "display_name": "Python 3",
   "name": "python3"
  },
  "language_info": {
   "codemirror_mode": {
    "name": "ipython",
    "version": 3
   },
   "file_extension": ".py",
   "mimetype": "text/x-python",
   "name": "python",
   "nbconvert_exporter": "python",
   "pygments_lexer": "ipython3",
   "version": "3.10.11"
  }
 },
 "nbformat": 4,
 "nbformat_minor": 0
}
